{
 "cells": [
  {
   "cell_type": "code",
   "execution_count": 2,
   "metadata": {},
   "outputs": [],
   "source": [
    "import pandas as pd\n",
    "import geopandas as gpd\n",
    "\n",
    "from dash import Dash, html, Output, Input,dash_table\n",
    "import dash_bootstrap_components as dbc\n",
    "\n",
    "import dash_leaflet as dl\n",
    "import dash_leaflet.express as dlx\n",
    "from dash_extensions.javascript import arrow_function, assign\n",
    "import plotly.figure_factory as ff\n",
    "\n",
    "import json\n",
    "\n",
    "from matplotlib import cm, colors"
   ]
  },
  {
   "cell_type": "code",
   "execution_count": 3,
   "metadata": {},
   "outputs": [],
   "source": [
    "oct_speed = pd.read_csv('static_data/raw_oct_speed.csv')\n",
    "nov_speed = pd.read_csv('static_data/raw_nov_speed.csv')"
   ]
  },
  {
   "cell_type": "code",
   "execution_count": 74,
   "metadata": {},
   "outputs": [],
   "source": [
    "ntas = gpd.read_file(\"shapefiles/nynta2020_24d\")\n",
    "df = pd.read_csv('static_data/rolling_avg.csv')"
   ]
  },
  {
   "cell_type": "code",
   "execution_count": 6,
   "metadata": {},
   "outputs": [],
   "source": [
    "table_data = pd.read_csv('static_data/borough_speeds.csv')"
   ]
  },
  {
   "cell_type": "code",
   "execution_count": 75,
   "metadata": {},
   "outputs": [],
   "source": [
    "def produce_rolling(df,window_size,min):\n",
    "    df['date'] = pd.to_datetime(df['date'])\n",
    "    df = df.sort_values(by=['NTAName', 'date'])\n",
    "    df['avg_imputed'] = df.groupby('NTAName')['avg'].transform(lambda x: x.fillna(x.mean()))\n",
    "    df['rolling_avg'] = df.groupby('NTAName')['avg_imputed'].rolling(window=window_size, min_periods=min).mean().reset_index(level=0, drop=True)\n",
    "    return df"
   ]
  },
  {
   "cell_type": "code",
   "execution_count": 8,
   "metadata": {},
   "outputs": [],
   "source": [
    "def make_table(df):\n",
    "    boroughs = df.groupby('borough')['average_road_speed'].mean().reset_index(name='avg_speed')\n",
    "    whole_city = df['average_road_speed'].mean()\n",
    "    table = pd.DataFrame({'borough': 'NYC Whole', 'avg_speed': whole_city}, index=[0])\n",
    "    boroughs = pd.concat([boroughs, table], ignore_index=True)\n",
    "    boroughs['avg_speed'] = boroughs['avg_speed'].round(1)\n",
    "    return boroughs"
   ]
  },
  {
   "cell_type": "code",
   "execution_count": 76,
   "metadata": {},
   "outputs": [],
   "source": [
    "rolling_df = produce_rolling(df,3,1)\n",
    "most_recent_df = rolling_df.loc[rolling_df.groupby('NTAName')['date'].idxmax()]\n",
    "rolling_map = ntas.merge(most_recent_df, left_on='NTAName', right_on='NTAName')"
   ]
  },
  {
   "cell_type": "code",
   "execution_count": 67,
   "metadata": {},
   "outputs": [],
   "source": [
    "scrape_date = rolling_df['date'].max().strftime('on %m/%d/%Y at %H:%M')"
   ]
  },
  {
   "cell_type": "code",
   "execution_count": 72,
   "metadata": {},
   "outputs": [],
   "source": [
    "# make a datetime\n",
    "rolling_df['date'] = pd.to_datetime(rolling_df['date'])\n",
    "scrape_date = rolling_df['date'].max().strftime('on %m/%d/%Y at %H:%M')"
   ]
  },
  {
   "cell_type": "code",
   "execution_count": 73,
   "metadata": {},
   "outputs": [
    {
     "data": {
      "text/plain": [
       "'on 12/30/2024 at 13:24'"
      ]
     },
     "execution_count": 73,
     "metadata": {},
     "output_type": "execute_result"
    }
   ],
   "source": [
    "scrape_date"
   ]
  },
  {
   "cell_type": "code",
   "execution_count": 77,
   "metadata": {},
   "outputs": [],
   "source": [
    "rolling_map = rolling_map[['NTAName','rolling_avg','Shape_Leng','Shape_Area','geometry']]"
   ]
  },
  {
   "cell_type": "code",
   "execution_count": 24,
   "metadata": {},
   "outputs": [],
   "source": [
    "month_dict = {\n",
    "    1 : 'January',\n",
    "    2 : 'February',\n",
    "    3 : 'March',\n",
    "    4 : 'April',\n",
    "    5 : 'May',\n",
    "    6 : 'June',\n",
    "    7 : 'July',\n",
    "    8 : 'August',\n",
    "    9 : 'September',\n",
    "    10 : 'October',\n",
    "    11 : 'November',\n",
    "    12 : 'December'\n",
    "}"
   ]
  },
  {
   "cell_type": "code",
   "execution_count": 78,
   "metadata": {},
   "outputs": [],
   "source": [
    "# change crs to 4326\n",
    "rolling_map = rolling_map.to_crs(epsg=4326)"
   ]
  },
  {
   "cell_type": "code",
   "execution_count": 90,
   "metadata": {},
   "outputs": [
    {
     "data": {
      "text/plain": [
       "(191, 5)"
      ]
     },
     "execution_count": 90,
     "metadata": {},
     "output_type": "execute_result"
    }
   ],
   "source": [
    "rolling_map.shape"
   ]
  },
  {
   "cell_type": "code",
   "execution_count": 79,
   "metadata": {},
   "outputs": [],
   "source": [
    "rolling_map.dropna(subset=['rolling_avg'],inplace=True)"
   ]
  },
  {
   "cell_type": "code",
   "execution_count": 80,
   "metadata": {},
   "outputs": [],
   "source": [
    "geojson_data = json.loads(rolling_map.to_json())"
   ]
  },
  {
   "cell_type": "code",
   "execution_count": 14,
   "metadata": {},
   "outputs": [
    {
     "data": {
      "text/plain": [
       "count    191.000000\n",
       "mean       4.500639\n",
       "std        2.147317\n",
       "min        1.741177\n",
       "25%        3.211796\n",
       "50%        4.180022\n",
       "75%        5.071962\n",
       "max       20.874993\n",
       "Name: rolling_avg, dtype: float64"
      ]
     },
     "execution_count": 14,
     "metadata": {},
     "output_type": "execute_result"
    }
   ],
   "source": [
    "rolling_map['rolling_avg'].describe()"
   ]
  },
  {
   "cell_type": "code",
   "execution_count": 92,
   "metadata": {},
   "outputs": [],
   "source": [
    "min_val = rolling_map['rolling_avg'].min()\n",
    "max_val = rolling_map['rolling_avg'].max()\n",
    "norm = colors.Normalize(vmin=min_val, vmax=max_val)\n",
    "cmap = cm.ScalarMappable(norm=norm, cmap='YlOrRd')"
   ]
  },
  {
   "cell_type": "code",
   "execution_count": 84,
   "metadata": {},
   "outputs": [],
   "source": [
    "classes = [0, 1, 2, 3, 4, 5, 7, 9,11,13, 15,17]\n",
    "colorscale = ['#FFEDA0', '#FED976', '#FEB24C', '#FD8D3C', '#FC4E2A', '#E31A1C', '#BD0026', '#800026',\n",
    "              '#660022', '#440016', '#33000F', '#20000A']\n",
    "style = dict(weight=2, opacity=1, color='white', dashArray='3', fillOpacity=0.7)"
   ]
  },
  {
   "cell_type": "code",
   "execution_count": 85,
   "metadata": {},
   "outputs": [],
   "source": [
    "ctg = [\"{}+\".format(cls, classes[i + 1]) for i, cls in enumerate(classes[:-1])] + [\"{}+\".format(classes[-1])]\n",
    "colorbar = dlx.categorical_colorbar(categories=ctg, colorscale=colorscale, width=300, height=30, position=\"bottomleft\")"
   ]
  },
  {
   "cell_type": "code",
   "execution_count": 86,
   "metadata": {},
   "outputs": [],
   "source": [
    "style_handle = assign(\"\"\"function(feature, context){\n",
    "    const {classes, colorscale, style, colorProp} = context.hideout;  // get props from hideout\n",
    "    const value = feature.properties[colorProp];  // get value the determines the color\n",
    "    for (let i = 0; i < classes.length; ++i) {\n",
    "        if (value > classes[i]) {\n",
    "            style.fillColor = colorscale[i];  // set the fill color according to the class\n",
    "        }\n",
    "    }\n",
    "    return style;\n",
    "}\"\"\")"
   ]
  },
  {
   "cell_type": "code",
   "execution_count": 18,
   "metadata": {},
   "outputs": [],
   "source": [
    "def get_info(feature=None):\n",
    "    header = [html.H4(\"On Time Rating\")]\n",
    "    if not feature:\n",
    "        return header + [html.P(\"Hoover over a district\")]\n",
    "    return header + [html.B(feature[\"properties\"][\"NTAName\"]), html.Br(),\n",
    "                     \"{} minutes off schedule\".format(round(feature[\"properties\"][\"rolling_avg\"],2))]"
   ]
  },
  {
   "cell_type": "code",
   "execution_count": 19,
   "metadata": {},
   "outputs": [],
   "source": [
    "with open(\"shapefiles/segments.geojson\", \"r\") as f:\n",
    "    bus_geojson = json.load(f)"
   ]
  },
  {
   "cell_type": "code",
   "execution_count": null,
   "metadata": {},
   "outputs": [],
   "source": [
    "app = Dash(__name__)\n",
    "server = app.server\n",
    "\n",
    "info = html.Div(children=get_info(), id=\"info\", className=\"info\",\n",
    "                style={\n",
    "        \"position\": \"absolute\",\n",
    "        \"top\": \"10px\",\n",
    "        \"right\": \"10px\",\n",
    "        \"zIndex\": \"1000\",\n",
    "        \"background-color\": \"white\", \n",
    "        \"padding\": \"10px\",  \n",
    "        \"border\": \"1px solid #ccc\", \n",
    "        \"border-radius\": \"5px\",  \n",
    "        \"box-shadow\": \"0 0 5px rgba(0, 0, 0, 0.2)\" \n",
    "    })\n",
    "\n",
    "\n",
    "\n",
    "app.layout = html.Div([\n",
    "    html.Div([\n",
    "        html.H1(\"NYC Bus On Time Rating\", style={'font-family': 'Georgia', 'padding': '10px', 'textAlign': 'center'}),\n",
    "        html.P(\"This map shows a rolling average of on-time arrivals for each NTA in NYC. The on-time rating is calculated as the average number of minutes each bus is off schedule in either direction.\"),\n",
    "        html.P(\"Hover over a district to see the name and on-time rating.\"),\n",
    "    ], style={'font-family': 'Georgia', 'padding': '10px', 'textAlign': 'center'}),\n",
    "\n",
    "    html.Div([\n",
    "        dl.Map(center=[40.7128, -74.0060], zoom=10, children=[\n",
    "            dl.TileLayer(),\n",
    "            dl.GeoJSON(data=geojson_data, style=style_handle, id='geojson',\n",
    "                       zoomToBounds=True, zoomToBoundsOnClick=True,\n",
    "                       hoverStyle=arrow_function(dict(weight=5, color='#666', dashArray='')),\n",
    "                       hideout=dict(colorscale=colorscale, classes=classes, style=style, colorProp=\"rolling_avg\")),\n",
    "                        dl.GeoJSON(data = bus_geojson,\n",
    "                       options=dict(style=dict(color=\"#00FF00\", weight=3, opacity=0.9, dashArray=\"4\"))),\n",
    "            colorbar, info\n",
    "        ], style={'width': '100%', 'height': '75vh', 'padding-bottom': '20px', 'margin-bottom': '50px'})\n",
    "    ])\n",
    "])\n",
    "\n",
    "\n",
    "@app.callback(Output(\"info\", \"children\"), Input(\"geojson\", \"hoverData\"))\n",
    "def info_hover(feature):\n",
    "    return get_info(feature)\n",
    "\n",
    "if __name__ == '__main__':\n",
    "    app.run_server(port=8060,debug=True)"
   ]
  },
  {
   "cell_type": "code",
   "execution_count": 43,
   "metadata": {},
   "outputs": [],
   "source": [
    "def make_table(df,month_dict):\n",
    "    df['month_name'] = df['month'].map(month_dict)\n",
    "    month = df['month_name'].unique()[0]\n",
    "    boroughs = df.groupby('borough')['average_road_speed'].mean().reset_index(name='raw_speed')\n",
    "    whole_city = df['average_road_speed'].mean()\n",
    "    table = pd.DataFrame({'borough': 'NYC Whole', 'raw_speed': whole_city}, index=[0])\n",
    "    boroughs = pd.concat([boroughs, table], ignore_index=True)\n",
    "    boroughs[f'{month}_avg_speed'] = boroughs['raw_speed'].round(1)\n",
    "    return boroughs"
   ]
  },
  {
   "cell_type": "code",
   "execution_count": 189,
   "metadata": {},
   "outputs": [],
   "source": [
    "table_rows = table_data.to_dict('records')\n",
    "table_columns = [{\"name\": col, \"id\": col} for col in table_data.columns]"
   ]
  },
  {
   "cell_type": "code",
   "execution_count": 34,
   "metadata": {},
   "outputs": [],
   "source": [
    "oct_table = make_table(oct_speed,month_dict)\n",
    "nov_table = make_table(nov_speed,month_dict)"
   ]
  },
  {
   "cell_type": "code",
   "execution_count": 41,
   "metadata": {},
   "outputs": [],
   "source": [
    "def join_tables(df1,df2,month_dict):\n",
    "    tb1 = make_table(df1,month_dict)\n",
    "    tb2 = make_table(df2,month_dict)\n",
    "    tables = tb1.merge(tb2,on='borough')\n",
    "    drop_cols = [col for col in tables.columns if 'raw_speed' in col]\n",
    "    tables.drop(columns=drop_cols,inplace=True)\n",
    "    return tables"
   ]
  },
  {
   "cell_type": "code",
   "execution_count": 44,
   "metadata": {},
   "outputs": [
    {
     "data": {
      "text/html": [
       "<div>\n",
       "<style scoped>\n",
       "    .dataframe tbody tr th:only-of-type {\n",
       "        vertical-align: middle;\n",
       "    }\n",
       "\n",
       "    .dataframe tbody tr th {\n",
       "        vertical-align: top;\n",
       "    }\n",
       "\n",
       "    .dataframe thead th {\n",
       "        text-align: right;\n",
       "    }\n",
       "</style>\n",
       "<table border=\"1\" class=\"dataframe\">\n",
       "  <thead>\n",
       "    <tr style=\"text-align: right;\">\n",
       "      <th></th>\n",
       "      <th>borough</th>\n",
       "      <th>October_avg_speed</th>\n",
       "      <th>November_avg_speed</th>\n",
       "    </tr>\n",
       "  </thead>\n",
       "  <tbody>\n",
       "    <tr>\n",
       "      <th>0</th>\n",
       "      <td>Bronx</td>\n",
       "      <td>8.3</td>\n",
       "      <td>7.5</td>\n",
       "    </tr>\n",
       "    <tr>\n",
       "      <th>1</th>\n",
       "      <td>Brooklyn</td>\n",
       "      <td>6.8</td>\n",
       "      <td>6.8</td>\n",
       "    </tr>\n",
       "    <tr>\n",
       "      <th>2</th>\n",
       "      <td>Manhattan</td>\n",
       "      <td>5.8</td>\n",
       "      <td>5.6</td>\n",
       "    </tr>\n",
       "    <tr>\n",
       "      <th>3</th>\n",
       "      <td>Other</td>\n",
       "      <td>10.6</td>\n",
       "      <td>10.3</td>\n",
       "    </tr>\n",
       "    <tr>\n",
       "      <th>4</th>\n",
       "      <td>Queens</td>\n",
       "      <td>8.5</td>\n",
       "      <td>8.5</td>\n",
       "    </tr>\n",
       "    <tr>\n",
       "      <th>5</th>\n",
       "      <td>Staten Island</td>\n",
       "      <td>12.5</td>\n",
       "      <td>12.2</td>\n",
       "    </tr>\n",
       "    <tr>\n",
       "      <th>6</th>\n",
       "      <td>NYC Whole</td>\n",
       "      <td>8.2</td>\n",
       "      <td>8.0</td>\n",
       "    </tr>\n",
       "  </tbody>\n",
       "</table>\n",
       "</div>"
      ],
      "text/plain": [
       "         borough  October_avg_speed  November_avg_speed\n",
       "0          Bronx                8.3                 7.5\n",
       "1       Brooklyn                6.8                 6.8\n",
       "2      Manhattan                5.8                 5.6\n",
       "3          Other               10.6                10.3\n",
       "4         Queens                8.5                 8.5\n",
       "5  Staten Island               12.5                12.2\n",
       "6      NYC Whole                8.2                 8.0"
      ]
     },
     "execution_count": 44,
     "metadata": {},
     "output_type": "execute_result"
    }
   ],
   "source": [
    "join_tables(oct_speed,nov_speed,month_dict)"
   ]
  },
  {
   "cell_type": "code",
   "execution_count": 90,
   "metadata": {},
   "outputs": [
    {
     "data": {
      "text/html": [
       "\n",
       "        <iframe\n",
       "            width=\"100%\"\n",
       "            height=\"650\"\n",
       "            src=\"http://127.0.0.1:8060/\"\n",
       "            frameborder=\"0\"\n",
       "            allowfullscreen\n",
       "            \n",
       "        ></iframe>\n",
       "        "
      ],
      "text/plain": [
       "<IPython.lib.display.IFrame at 0x285eb92b490>"
      ]
     },
     "metadata": {},
     "output_type": "display_data"
    }
   ],
   "source": [
    "app = Dash(__name__)\n",
    "server = app.server\n",
    "\n",
    "info = html.Div(children=get_info(), id=\"info\", className=\"info\",\n",
    "                style={\n",
    "        \"position\": \"absolute\",\n",
    "        \"top\": \"10px\",\n",
    "        \"right\": \"10px\",\n",
    "        \"zIndex\": \"1000\",\n",
    "        \"background-color\": \"white\", \n",
    "        \"padding\": \"10px\",  \n",
    "        \"border\": \"1px solid #ccc\", \n",
    "        \"border-radius\": \"5px\",  \n",
    "        \"box-shadow\": \"0 0 5px rgba(0, 0, 0, 0.2)\" \n",
    "    })\n",
    "\n",
    "table_data = join_tables(oct_speed,nov_speed,month_dict)\n",
    "table_rows = table_data.to_dict('records')\n",
    "table_columns = [{\"name\": col, \"id\": col} for col in table_data.columns]\n",
    "\n",
    "app.layout = html.Div([\n",
    "    html.Div([\n",
    "        html.H1(\"NYC Bus On Time Rating\", style={'font-family': 'Georgia', 'padding': '10px', 'textAlign': 'center'}),\n",
    "        html.P(\"The map below shows two metrics for bus performance in NYC. The color of the tiles represents a rolling average of on-time arrivals for each Neighborhood Tabulation Area (NTA) in NYC. The on-time rating is calculated as the average number of minutes each bus is off schedule in either direction. The green lines represent the slowest segments of bus routes in NYC. Hover over a district to see the name and on-time rating.\"),\n",
    "        html.P(\"The on-time data is collected from the MTA's Bus Time API and is scraped everyday at rush hour. Bus speeds are collected from the NYC Open Data and are updated monthly. See table below map for average speeds by borough.\"),\n",
    "        html.P(f\"On-time data last scraped {scrape_date}\"),\n",
    "    ], style={'font-family': 'Georgia', 'padding': '10px', 'textAlign': 'center'}),\n",
    "\n",
    "    html.Div([\n",
    "        dl.Map(center=[40.7128, -74.0060], zoom=10, children=[\n",
    "            dl.TileLayer(),\n",
    "            dl.GeoJSON(data=geojson_data, style=style_handle, id='geojson',\n",
    "                       zoomToBounds=True, zoomToBoundsOnClick=True,\n",
    "                       hoverStyle=arrow_function(dict(weight=5, color='#666', dashArray='')),\n",
    "                       hideout=dict(colorscale=colorscale, classes=classes, style=style, colorProp=\"rolling_avg\")),\n",
    "            dl.GeoJSON(data=bus_geojson,\n",
    "                       options=dict(style=dict(color=\"#00FF00\", weight=3, opacity=1))),\n",
    "            colorbar, info\n",
    "        ], style={'width': '100%', 'height': '75vh', 'padding-bottom': '20px', 'margin-bottom': '50px'})\n",
    "    ]),\n",
    "    html.Div([\n",
    "        html.P(\"The table below shows the average speed of buses in each borough. The data is collected from the NYC Open Data and is updated monthly.\"),\n",
    "    ])\n",
    "    ,\n",
    "    html.Div([\n",
    "        html.H2(\"On-Time Rating Data\", style={'font-family': 'Georgia', 'textAlign': 'center', 'margin-top': '20px'}),\n",
    "        dash_table.DataTable(\n",
    "            data=table_rows,\n",
    "            columns=table_columns,\n",
    "            style_table={'width': '80%', 'margin': '0 auto'},\n",
    "            style_cell={'textAlign': 'center', 'font-family': 'Georgia', 'padding': '5px'},\n",
    "            style_header={'fontWeight': 'bold', 'backgroundColor': '#f4f4f4'}\n",
    "        )\n",
    "    ])\n",
    "])\n",
    "\n",
    "@app.callback(Output(\"info\", \"children\"), Input(\"geojson\", \"hoverData\"))\n",
    "def info_hover(feature):\n",
    "    return get_info(feature)\n",
    "\n",
    "if __name__ == '__main__':\n",
    "    app.run_server(port=8060,debug=True)"
   ]
  }
 ],
 "metadata": {
  "kernelspec": {
   "display_name": "vienv",
   "language": "python",
   "name": "python3"
  },
  "language_info": {
   "codemirror_mode": {
    "name": "ipython",
    "version": 3
   },
   "file_extension": ".py",
   "mimetype": "text/x-python",
   "name": "python",
   "nbconvert_exporter": "python",
   "pygments_lexer": "ipython3",
   "version": "3.11.4"
  }
 },
 "nbformat": 4,
 "nbformat_minor": 2
}
