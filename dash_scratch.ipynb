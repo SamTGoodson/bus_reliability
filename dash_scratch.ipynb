{
 "cells": [
  {
   "cell_type": "code",
   "execution_count": 119,
   "metadata": {},
   "outputs": [],
   "source": [
    "import pandas as pd\n",
    "import geopandas as gpd\n",
    "\n",
    "from dash import Dash, html, Output, Input\n",
    "import dash_bootstrap_components as dbc\n",
    "\n",
    "import dash_leaflet as dl\n",
    "import dash_leaflet.express as dlx\n",
    "from dash_extensions.javascript import arrow_function, assign\n",
    "import plotly.figure_factory as ff\n",
    "\n",
    "import json\n",
    "\n",
    "from matplotlib import cm, colors"
   ]
  },
  {
   "cell_type": "code",
   "execution_count": 8,
   "metadata": {},
   "outputs": [],
   "source": [
    "def produce_rolling(df,window_size,min):\n",
    "    df['date'] = pd.to_datetime(df['date'])\n",
    "    df = df.sort_values(by=['NTAName', 'date'])\n",
    "    df['avg_imputed'] = df.groupby('NTAName')['avg'].transform(lambda x: x.fillna(x.mean()))\n",
    "    df['rolling_avg'] = df.groupby('NTAName')['avg_imputed'].rolling(window=window_size, min_periods=min).mean().reset_index(level=0, drop=True)\n",
    "    return df"
   ]
  },
  {
   "cell_type": "code",
   "execution_count": 80,
   "metadata": {},
   "outputs": [],
   "source": [
    "ntas = gpd.read_file(\"shapefiles/nynta2020_24d\")\n",
    "df = pd.read_csv('static_data/rolling_avg.csv')"
   ]
  },
  {
   "cell_type": "code",
   "execution_count": 81,
   "metadata": {},
   "outputs": [],
   "source": [
    "rolling_df = produce_rolling(df,3,1)\n",
    "most_recent_df = rolling_df.loc[rolling_df.groupby('NTAName')['date'].idxmax()]\n",
    "rolling_map = ntas.merge(most_recent_df, left_on='NTAName', right_on='NTAName')"
   ]
  },
  {
   "cell_type": "code",
   "execution_count": 82,
   "metadata": {},
   "outputs": [],
   "source": [
    "rolling_map = rolling_map[['NTAName','rolling_avg','Shape_Leng','Shape_Area','geometry']]"
   ]
  },
  {
   "cell_type": "code",
   "execution_count": 83,
   "metadata": {},
   "outputs": [],
   "source": [
    "# change crs to 4326\n",
    "rolling_map = rolling_map.to_crs(epsg=4326)"
   ]
  },
  {
   "cell_type": "code",
   "execution_count": 90,
   "metadata": {},
   "outputs": [
    {
     "data": {
      "text/plain": [
       "(191, 5)"
      ]
     },
     "execution_count": 90,
     "metadata": {},
     "output_type": "execute_result"
    }
   ],
   "source": [
    "rolling_map.shape"
   ]
  },
  {
   "cell_type": "code",
   "execution_count": 89,
   "metadata": {},
   "outputs": [],
   "source": [
    "rolling_map.dropna(subset=['rolling_avg'],inplace=True)"
   ]
  },
  {
   "cell_type": "code",
   "execution_count": 112,
   "metadata": {},
   "outputs": [],
   "source": [
    "geojson_data = json.loads(rolling_map.to_json())"
   ]
  },
  {
   "cell_type": "code",
   "execution_count": 102,
   "metadata": {},
   "outputs": [
    {
     "data": {
      "text/plain": [
       "count    191.000000\n",
       "mean       4.567277\n",
       "std        2.700449\n",
       "min        0.529717\n",
       "25%        2.703825\n",
       "50%        3.864002\n",
       "75%        5.551986\n",
       "max       20.874993\n",
       "Name: rolling_avg, dtype: float64"
      ]
     },
     "execution_count": 102,
     "metadata": {},
     "output_type": "execute_result"
    }
   ],
   "source": [
    "rolling_map['rolling_avg'].describe()"
   ]
  },
  {
   "cell_type": "code",
   "execution_count": 92,
   "metadata": {},
   "outputs": [],
   "source": [
    "min_val = rolling_map['rolling_avg'].min()\n",
    "max_val = rolling_map['rolling_avg'].max()\n",
    "norm = colors.Normalize(vmin=min_val, vmax=max_val)\n",
    "cmap = cm.ScalarMappable(norm=norm, cmap='YlOrRd')"
   ]
  },
  {
   "cell_type": "code",
   "execution_count": 107,
   "metadata": {},
   "outputs": [],
   "source": [
    "classes = [0, 1, 2, 3, 4, 5, 10, 20]\n",
    "colorscale = ['#FFEDA0', '#FED976', '#FEB24C', '#FD8D3C', '#FC4E2A', '#E31A1C', '#BD0026', '#800026']\n",
    "style = dict(weight=2, opacity=1, color='white', dashArray='3', fillOpacity=0.7)"
   ]
  },
  {
   "cell_type": "code",
   "execution_count": 108,
   "metadata": {},
   "outputs": [],
   "source": [
    "ctg = [\"{}+\".format(cls, classes[i + 1]) for i, cls in enumerate(classes[:-1])] + [\"{}+\".format(classes[-1])]\n",
    "colorbar = dlx.categorical_colorbar(categories=ctg, colorscale=colorscale, width=300, height=30, position=\"bottomleft\")"
   ]
  },
  {
   "cell_type": "code",
   "execution_count": 109,
   "metadata": {},
   "outputs": [],
   "source": [
    "style_handle = assign(\"\"\"function(feature, context){\n",
    "    const {classes, colorscale, style, colorProp} = context.hideout;  // get props from hideout\n",
    "    const value = feature.properties[colorProp];  // get value the determines the color\n",
    "    for (let i = 0; i < classes.length; ++i) {\n",
    "        if (value > classes[i]) {\n",
    "            style.fillColor = colorscale[i];  // set the fill color according to the class\n",
    "        }\n",
    "    }\n",
    "    return style;\n",
    "}\"\"\")"
   ]
  },
  {
   "cell_type": "code",
   "execution_count": 125,
   "metadata": {},
   "outputs": [],
   "source": [
    "def get_info(feature=None):\n",
    "    header = [html.H4(\"On Time Rating\")]\n",
    "    if not feature:\n",
    "        return header + [html.P(\"Hoover over a district\")]\n",
    "    return header + [html.B(feature[\"properties\"][\"NTAName\"]), html.Br(),\n",
    "                     \"{} minutes off schedule\".format(round(feature[\"properties\"][\"rolling_avg\"],2))]"
   ]
  },
  {
   "cell_type": "code",
   "execution_count": 126,
   "metadata": {},
   "outputs": [
    {
     "data": {
      "text/html": [
       "\n",
       "        <iframe\n",
       "            width=\"100%\"\n",
       "            height=\"650\"\n",
       "            src=\"http://127.0.0.1:8050/\"\n",
       "            frameborder=\"0\"\n",
       "            allowfullscreen\n",
       "            \n",
       "        ></iframe>\n",
       "        "
      ],
      "text/plain": [
       "<IPython.lib.display.IFrame at 0x2258645ca50>"
      ]
     },
     "metadata": {},
     "output_type": "display_data"
    }
   ],
   "source": [
    "app = Dash(__name__)\n",
    "server = app.server\n",
    "\n",
    "info = html.Div(children=get_info(), id=\"info\", className=\"info\",\n",
    "                style={\n",
    "        \"position\": \"absolute\",\n",
    "        \"top\": \"10px\",\n",
    "        \"right\": \"10px\",\n",
    "        \"zIndex\": \"1000\",\n",
    "        \"background-color\": \"white\", \n",
    "        \"padding\": \"10px\",  \n",
    "        \"border\": \"1px solid #ccc\", \n",
    "        \"border-radius\": \"5px\",  \n",
    "        \"box-shadow\": \"0 0 5px rgba(0, 0, 0, 0.2)\" \n",
    "    })\n",
    "\n",
    "\n",
    "\n",
    "app.layout = html.Div([\n",
    "        dl.Map(center=[40.7128, -74.0060], zoom=10, children=[\n",
    "            dl.TileLayer(),\n",
    "            dl.GeoJSON(data=geojson_data, style=style_handle,id='geojson',\n",
    "                       hoverStyle=arrow_function(dict(weight=5, color='#666', dashArray='')),\n",
    "                       hideout=dict(colorscale=colorscale, classes=classes, style=style, colorProp=\"rolling_avg\")),\n",
    "            colorbar,info\n",
    "        ], style={'width': '100%', 'height': '75vh', 'padding-bottom': '20px', 'margin-bottom': '50px'}), \n",
    "    ])\n",
    "\n",
    "@app.callback(Output(\"info\", \"children\"), Input(\"geojson\", \"hoverData\"))\n",
    "def info_hover(feature):\n",
    "    return get_info(feature)\n",
    "\n",
    "if __name__ == '__main__':\n",
    "    app.run_server(debug=True)"
   ]
  }
 ],
 "metadata": {
  "kernelspec": {
   "display_name": "vienv",
   "language": "python",
   "name": "python3"
  },
  "language_info": {
   "codemirror_mode": {
    "name": "ipython",
    "version": 3
   },
   "file_extension": ".py",
   "mimetype": "text/x-python",
   "name": "python",
   "nbconvert_exporter": "python",
   "pygments_lexer": "ipython3",
   "version": "3.11.4"
  }
 },
 "nbformat": 4,
 "nbformat_minor": 2
}
